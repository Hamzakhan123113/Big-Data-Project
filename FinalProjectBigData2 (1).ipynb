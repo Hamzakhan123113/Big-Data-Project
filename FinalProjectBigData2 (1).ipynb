{
  "cells": [
    {
      "cell_type": "code",
      "execution_count": null,
      "metadata": {
        "colab": {
          "base_uri": "https://localhost:8080/",
          "height": 321
        },
        "id": "0_w0OQ7hG-SO",
        "outputId": "cebffe22-08a8-4574-8b32-a10398895566"
      },
      "outputs": [
        {
          "output_type": "error",
          "ename": "ModuleNotFoundError",
          "evalue": "ignored",
          "traceback": [
            "\u001b[0;31m---------------------------------------------------------------------------\u001b[0m",
            "\u001b[0;31mModuleNotFoundError\u001b[0m                       Traceback (most recent call last)",
            "\u001b[0;32m<ipython-input-1-cb0d78538ea2>\u001b[0m in \u001b[0;36m<module>\u001b[0;34m()\u001b[0m\n\u001b[0;32m----> 1\u001b[0;31m \u001b[0;32mfrom\u001b[0m \u001b[0mpyspark\u001b[0m \u001b[0;32mimport\u001b[0m \u001b[0msql\u001b[0m\u001b[0;34m\u001b[0m\u001b[0;34m\u001b[0m\u001b[0m\n\u001b[0m\u001b[1;32m      2\u001b[0m \u001b[0;32mfrom\u001b[0m \u001b[0mpyspark\u001b[0m\u001b[0;34m.\u001b[0m\u001b[0msql\u001b[0m \u001b[0;32mimport\u001b[0m \u001b[0mfunctions\u001b[0m \u001b[0;32mas\u001b[0m \u001b[0mf\u001b[0m\u001b[0;34m,\u001b[0m \u001b[0mudf\u001b[0m\u001b[0;34m\u001b[0m\u001b[0;34m\u001b[0m\u001b[0m\n",
            "\u001b[0;31mModuleNotFoundError\u001b[0m: No module named 'pyspark'",
            "",
            "\u001b[0;31m---------------------------------------------------------------------------\u001b[0;32m\nNOTE: If your import is failing due to a missing package, you can\nmanually install dependencies using either !pip or !apt.\n\nTo view examples of installing some common dependencies, click the\n\"Open Examples\" button below.\n\u001b[0;31m---------------------------------------------------------------------------\u001b[0m\n"
          ],
          "errorDetails": {
            "actions": [
              {
                "action": "open_url",
                "actionText": "Open Examples",
                "url": "/notebooks/snippets/importing_libraries.ipynb"
              }
            ]
          }
        }
      ],
      "source": [
        "from pyspark import sql\n",
        "from pyspark.sql import functions as f, udf\n",
        "from pyspark import SparkContext\n",
        "from pyspark.streaming import StreamingContext"
      ]
    },
    {
      "cell_type": "code",
      "execution_count": null,
      "metadata": {
        "id": "G9rL2HrBG-SR"
      },
      "outputs": [],
      "source": [
        "!wget -q  https://s3.amazonaws.com/metcs777/flights.csv.bz2\n",
        "    \n",
        "!wget -q  https://s3.amazonaws.com/metcs777/airports.csv.bz2"
      ]
    },
    {
      "cell_type": "code",
      "source": [
        "sc = SparkContext(appName = \"Text Cleaning\")\n",
        "strc = StreamingContext(sc, 3)"
      ],
      "metadata": {
        "id": "KsOWQhSQKgwP"
      },
      "execution_count": null,
      "outputs": []
    },
    {
      "cell_type": "code",
      "source": [
        "text_data = strc.socketTextStream(\"localhost\", 8084)"
      ],
      "metadata": {
        "id": "WHsebYRLKmZa"
      },
      "execution_count": null,
      "outputs": []
    },
    {
      "cell_type": "code",
      "execution_count": null,
      "metadata": {
        "id": "jiruxc8xG-ST"
      },
      "outputs": [],
      "source": [
        "sqlContext = sql.SparkSession.builder \\\n",
        "    .master(\"local\") \\\n",
        "    .appName(\"Flight DF\") \\\n",
        "    .getOrCreate()\n",
        "\n",
        "flights = sqlContext.read.format('csv')\\\n",
        "    .options(header='true', inferSchema='true')\\\n",
        "    .load(\"flights.csv.bz2\")\n",
        "\n",
        "airport = sqlContext.read.format('csv')\\\n",
        "    .options(header='true', inferSchema='true')\\\n",
        "    .load(\"airports.csv.bz2\")"
      ]
    },
    {
      "cell_type": "code",
      "execution_count": null,
      "metadata": {
        "id": "jlxZy0JDG-SV"
      },
      "outputs": [],
      "source": [
        "flights.printSchema()\n",
        "airport.printSchema()"
      ]
    },
    {
      "cell_type": "code",
      "execution_count": null,
      "metadata": {
        "id": "ZnUmPWiLG-Sb"
      },
      "outputs": [],
      "source": [
        "\n",
        "flights.select(\"ORIGIN_AIRPORT\").distinct().show()"
      ]
    },
    {
      "cell_type": "code",
      "execution_count": null,
      "metadata": {
        "id": "i_9JU9-cG-Se"
      },
      "outputs": [],
      "source": [
        "\n",
        "flights.select(\"ORIGIN_AIRPORT\", \"DESTINATION_AIRPORT\").distinct().show()"
      ]
    },
    {
      "cell_type": "code",
      "execution_count": null,
      "metadata": {
        "id": "fsl36iiTG-Sg"
      },
      "outputs": [],
      "source": [
        "\n",
        "flights.where(flights.MONTH == 1)\\\n",
        "    .orderBy(\"DEPARTURE_DELAY\", ascending=False)\\\n",
        "    .limit(1)\\\n",
        "    .select(\"ORIGIN_AIRPORT\")\\\n",
        "    .show()"
      ]
    },
    {
      "cell_type": "code",
      "execution_count": null,
      "metadata": {
        "id": "T0VLFeUUG-Si"
      },
      "outputs": [],
      "source": [
        "\n",
        "flights.filter(\"DAY_OF_WEEK = 6 OR DAY_OF_WEEK = 7\" )\\\n",
        "    .orderBy(\"DEPARTURE_DELAY\", ascending=False)\\\n",
        "    .limit(1)\\\n",
        "    .select(\"AIRLINE\")\\\n",
        "    .show()"
      ]
    },
    {
      "cell_type": "code",
      "execution_count": null,
      "metadata": {
        "id": "MkQ0YHvjG-Sk"
      },
      "outputs": [],
      "source": [
        "\n",
        "flights.filter(\"CANCELLED = 1\")\\\n",
        "    .withColumn(\"COUNT\", f.lit(1))\\\n",
        "    .groupBy(\"ORIGIN_AIRPORT\")\\\n",
        "    .agg(f.sum(\"COUNT\").alias(\"COUNT\"))\\\n",
        "    .orderBy(\"COUNT\", ascending=False)\\\n",
        "    .limit(1)\\\n",
        "    .select(\"ORIGIN_AIRPORT\", \"COUNT\")\\\n",
        "    .show()"
      ]
    },
    {
      "cell_type": "code",
      "execution_count": null,
      "metadata": {
        "id": "BWieDfCjG-Sl"
      },
      "outputs": [],
      "source": [
        "\n",
        "flights.withColumn(\"TOTAL\", f.lit(1))\\\n",
        "    .groupBy(\"AIRLINE\")\\\n",
        "    .agg(f.sum(\"CANCELLED\").alias(\"TOTAL_CANCELLED\"), f.sum(\"TOTAL\").alias(\"TOTAL\"))\\\n",
        "    .withColumn(\"CANCEL_RATE\", f.col(\"TOTAL_CANCELLED\")/f.col(\"TOTAL\")*100)\\\n",
        "    .show()"
      ]
    },
    {
      "cell_type": "code",
      "execution_count": null,
      "metadata": {
        "id": "DEhtgJuBG-Sm"
      },
      "outputs": [],
      "source": [
        "\n",
        "flights.groupBy(\"AIRLINE\")\\\n",
        "    .agg(f.max(\"DEPARTURE_DELAY\").alias(\"MAX_DEPARTURE_DELAY\"))\\\n",
        "    .show()"
      ]
    },
    {
      "cell_type": "code",
      "execution_count": null,
      "metadata": {
        "id": "zwMdmtaYG-Sn"
      },
      "outputs": [],
      "source": [
        "\n",
        "flights.groupBy(\"AIRLINE\", \"MONTH\")\\\n",
        "    .agg(f.max(\"DEPARTURE_DELAY\").alias(\"MAX_DEPARTURE_DELAY\"))\\\n",
        "    .show()"
      ]
    },
    {
      "cell_type": "code",
      "execution_count": null,
      "metadata": {
        "id": "Irq3if9MG-Sp"
      },
      "outputs": [],
      "source": [
        "\n",
        "flights.withColumn(\"TOTAL\", f.lit(1))\\\n",
        "    .groupBy(\"AIRLINE\")\\\n",
        "    .agg(f.sum(\"DEPARTURE_DELAY\").alias(\"TOTAL_DEPARTURE_DELAY\"), f.sum(\"TOTAL\").alias(\"TOTAL\"))\\\n",
        "    .withColumn(\"AVG_DEPARTURE_DELAY\", f.col(\"TOTAL_DEPARTURE_DELAY\")/f.col(\"TOTAL\"))\\\n",
        "    .show()"
      ]
    },
    {
      "cell_type": "code",
      "execution_count": null,
      "metadata": {
        "id": "_pp8nPnbG-Sr"
      },
      "outputs": [],
      "source": [
        "\n",
        "flights.withColumn(\"TOTAL\", f.lit(1))\\\n",
        "    .groupBy(\"AIRLINE\",\"MONTH\")\\\n",
        "    .agg(f.sum(\"DEPARTURE_DELAY\").alias(\"TOTAL_DEPARTURE_DELAY\"), f.sum(\"TOTAL\").alias(\"TOTAL\"))\\\n",
        "    .withColumn(\"AVG_DEPARTURE_DELAY\", f.col(\"TOTAL_DEPARTURE_DELAY\")/f.col(\"TOTAL\"))\\\n",
        "    .select(\"AIRLINE\", \"MONTH\", \"AVG_DEPARTURE_DELAY\")\\\n",
        "    .show()"
      ]
    },
    {
      "cell_type": "code",
      "execution_count": null,
      "metadata": {
        "id": "ITk3E0aeG-Sr"
      },
      "outputs": [],
      "source": [
        "\n",
        "\n",
        "flights.withColumn(\"TOTAL\", f.lit(1))\\\n",
        "    .groupBy(\"YEAR\",\"MONTH\",\"DAY\")\\\n",
        "    .agg(f.sum(\"CANCELLED\").alias(\"TOTAL_CANCELLED\"), f.sum(\"TOTAL\").alias(\"TOTAL\"))\\\n",
        "    .withColumn(\"CANCEL_RATE\", f.col(\"TOTAL_CANCELLED\")/f.col(\"TOTAL\")*100)\\\n",
        "    .orderBy(\"CANCEL_RATE\", ascending=False)\\\n",
        "    .limit(1)\\\n",
        "    .select(\"YEAR\",\"MONTH\",\"DAY\")\\\n",
        "    .show()\n"
      ]
    },
    {
      "cell_type": "code",
      "execution_count": null,
      "metadata": {
        "id": "Yld0kx58G-Ss"
      },
      "outputs": [],
      "source": [
        "\n",
        "from pyspark.sql.types import ArrayType, IntegerType, StringType\n",
        "from pyspark.sql.functions import udf\n",
        "fold_list = udf(lambda x,y: sorted(zip(x,y))[-1][1],StringType())\n",
        "flights.withColumn(\"COUNT\", f.lit(1))\\\n",
        "    .groupBy(\"AIRLINE\", \"DESTINATION_AIRPORT\")\\\n",
        "    .agg(f.sum(\"DEPARTURE_DELAY\").alias(\"TOTAL_DEPARTURE_DELAY\"),f.sum(\"COUNT\").alias(\"COUNT\"))\\\n",
        "    .withColumn(\"DEPARTURE_AVG_DELAY\", f.col(\"TOTAL_DEPARTURE_DELAY\")/f.col(\"COUNT\"))\\\n",
        "    .join(airport, flights.DESTINATION_AIRPORT == airport.IATA_CODE)\\\n",
        "    .select(\"AIRLINE\", \"TOTAL_DEPARTURE_DELAY\", \"STATE\")\\\n",
        "    .groupBy(\"AIRLINE\")\\\n",
        "    .agg(\n",
        "        f.collect_list(\"TOTAL_DEPARTURE_DELAY\").alias(\"delay\"),\n",
        "        f.collect_list(\"STATE\").alias(\"state\")\n",
        "    )\\\n",
        "    .withColumn(\"MAX_AVGDELAY_STATE\", fold_list(f.col(\"delay\"), f.col(\"state\")))\\\n",
        "    .select(\"AIRLINE\", \"MAX_AVGDELAY_STATE\")\\\n",
        "    .show()\n"
      ]
    },
    {
      "cell_type": "code",
      "source": [
        "import re\n",
        "from nltk.corpus import stopwords\n",
        "stop_words = set(stopwords.words('english'))\n",
        "from nltk.stem import WordNetLemmatizer\n",
        "lemmatizer = WordNetLemmatizer()\n",
        "def clean_text(sentence):\n",
        "    sentence = sentence.lower()\n",
        "    sentence = re.sub(\"s+\",\" \", sentence)\n",
        "    sentence = re.sub(\"W\",\" \", sentence)\n",
        "    sentence = re.sub(r\"httpS+\", \"\", sentence)\n",
        "    sentence = ' '.join(word for word in sentence.split() if word not in stop_words)\n",
        "    sentence = [lemmatizer.lemmatize(token, \"v\") for token in sentence.split()]\n",
        "    sentence = \" \".join(sentence)\n",
        "    return sentence.strip()"
      ],
      "metadata": {
        "id": "atsOtG6zKrwg"
      },
      "execution_count": null,
      "outputs": []
    },
    {
      "cell_type": "code",
      "source": [
        "strc.start()\n",
        "strc.awaitTermination()"
      ],
      "metadata": {
        "id": "VJvkeOVfK0i8"
      },
      "execution_count": null,
      "outputs": []
    }
  ],
  "metadata": {
    "kernelspec": {
      "display_name": "Python 3",
      "language": "python",
      "name": "python3"
    },
    "language_info": {
      "codemirror_mode": {
        "name": "ipython",
        "version": 3
      },
      "file_extension": ".py",
      "mimetype": "text/x-python",
      "name": "python",
      "nbconvert_exporter": "python",
      "pygments_lexer": "ipython3",
      "version": "3.8.5"
    },
    "colab": {
      "name": "FinalProjectBigData2.ipynb",
      "provenance": [],
      "collapsed_sections": []
    }
  },
  "nbformat": 4,
  "nbformat_minor": 0
}